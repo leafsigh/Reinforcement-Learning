{
 "cells": [
  {
   "cell_type": "code",
   "execution_count": 2,
   "metadata": {},
   "outputs": [],
   "source": [
    "import numpy as np\n",
    "import matplotlib.pyplot as plt\n",
    "import seaborn as sns"
   ]
  },
  {
   "cell_type": "markdown",
   "metadata": {},
   "source": [
    "**Iterative Policy Evaluation in Grid-World**\n",
    "- fix the state transfer prob matrix S\n",
    "- fix the reward of each grid =-1\n",
    "- policy is equiprobable"
   ]
  },
  {
   "cell_type": "code",
   "execution_count": 1,
   "metadata": {},
   "outputs": [],
   "source": [
    "class GridWorld():\n",
    "    \n",
    "    def __init__(self,size,reward,itera):\n",
    "        \n",
    "        self.size = size\n",
    "        self.iter = itera\n",
    "        \n",
    "        # instant reward, represents the first part of bellman equation\n",
    "        # sum_{a}pi(a|s)*sum_{s',r}p(s',r|s,a)*r\n",
    "        # r is set to be reward\n",
    "        self.instant_r = reward*np.ones((self.size,self.size))\n",
    "        self.instant_r[0,0]=0\n",
    "        self.instant_r[-1,-1]=0\n",
    "#         self.instant_r[0,1]=reward*0.75\n",
    "#         self.instant_r[-1,-2]=reward*0.75\n",
    "        \n",
    "    def __DataStruct(self):\n",
    "        \n",
    "        self.policy=[0.25,0.25,0.25,0.25]\n",
    "        \n",
    "        # Initialize value-function matrix\n",
    "        self.large_Vk = np.ones((self.size+2,self.size+2))*(-1)\n",
    "        self.large_Vk[1,1]=0\n",
    "        self.large_Vk[self.size,self.size]=0\n",
    "        \n",
    "        # execute-action related arrays\n",
    "        self.actions_dict = {'up':(-1)*np.ones((self.size,self.size)),\n",
    "                             'left':(-1)*np.ones((self.size,self.size)),\n",
    "                             'down':np.ones((self.size,self.size)),\n",
    "                             'right':np.ones((self.size,self.size))}\n",
    "        \n",
    "        self.cod = np.meshgrid(list(range(1,self.size+1)),\n",
    "                               list(range(1,self.size+1)))\n",
    "\n",
    "        self.move_left = (self.cod[0]+self.actions_dict['up']).astype(int)\n",
    "        self.move_right = (self.cod[0]+self.actions_dict['down']).astype(int)\n",
    "        self.move_up = (self.cod[1]+self.actions_dict['left']).astype(int)\n",
    "        self.move_down = (self.cod[1]+self.actions_dict['right']).astype(int)\n",
    "        \n",
    "    def Act_Update(self):\n",
    "        \n",
    "        Vk_left = self.large_Vk[self.cod[1],self.move_left]\n",
    "        Vk_right = self.large_Vk[self.cod[1],self.move_right]\n",
    "        Vk_up = self.large_Vk[self.move_up,self.cod[0]]\n",
    "        Vk_down = self.large_Vk[self.move_down,self.cod[0]]\n",
    "        \n",
    "        self.large_Vk[self.cod[1],self.cod[0]] = (0.25*Vk_up+0.25*Vk_down+0.25*Vk_left+0.25*Vk_right+self.instant_r)\n",
    "        self.large_Vk[1,1]=0\n",
    "        self.large_Vk[self.size,self.size]=0\n",
    "        \n",
    "        self.large_Vk[0,:] = self.large_Vk[1,:]\n",
    "        self.large_Vk[:,-1] = self.large_Vk[:,-2]\n",
    "        self.large_Vk[-1,:] = self.large_Vk[-2,:]\n",
    "        self.large_Vk[:,0] = self.large_Vk[:,1]\n",
    "        \n",
    "    def ReadyPlayer1(self):\n",
    "        \n",
    "        self.__DataStruct()\n",
    "        \n",
    "        for _ in range(self.iter):\n",
    "            \n",
    "            self.Act_Update()"
   ]
  },
  {
   "cell_type": "code",
   "execution_count": null,
   "metadata": {},
   "outputs": [],
   "source": []
  }
 ],
 "metadata": {
  "kernelspec": {
   "display_name": "Python 3",
   "language": "python",
   "name": "python3"
  },
  "language_info": {
   "codemirror_mode": {
    "name": "ipython",
    "version": 3
   },
   "file_extension": ".py",
   "mimetype": "text/x-python",
   "name": "python",
   "nbconvert_exporter": "python",
   "pygments_lexer": "ipython3",
   "version": "3.7.6"
  }
 },
 "nbformat": 4,
 "nbformat_minor": 4
}
