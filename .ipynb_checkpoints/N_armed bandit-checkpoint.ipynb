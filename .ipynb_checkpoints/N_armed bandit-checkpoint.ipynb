{
 "cells": [
  {
   "cell_type": "code",
   "execution_count": 1,
   "metadata": {},
   "outputs": [],
   "source": [
    "import numpy as np\n",
    "import matplotlib.pyplot as plt\n",
    "import seaborn as sns\n",
    "import pandas as pd\n",
    "import time"
   ]
  },
  {
   "cell_type": "code",
   "execution_count": 41,
   "metadata": {},
   "outputs": [],
   "source": [
    "class N_Armed_Bandit():\n",
    "    \n",
    "    def __init__(self,game,play,\n",
    "                 n_arms,control_paras,\n",
    "                 burning_period,\n",
    "                 softmax=1):\n",
    "        \n",
    "        # times of game\n",
    "        self.game = game\n",
    "        \n",
    "        # times of playround during each game\n",
    "        self.play = play\n",
    "        \n",
    "        # how many levers\n",
    "        self.n_arms = n_arms\n",
    "        \n",
    "        # epsilon for epsilon-greedy, tau(tempreture) for softmax\n",
    "        self.control_paras = control_paras\n",
    "        \n",
    "        # how many rounds of burning period are included during the simulation\n",
    "        self.burning_period = burning_period\n",
    "        \n",
    "        # n_unique of epsilon decisdes how many methods are competing\n",
    "        self.n_group = len(control_paras)\n",
    "        \n",
    "        # whether use softmax to select action\n",
    "        self.softmax = softmax\n",
    "        \n",
    "    def __DataRestoration(self):\n",
    "        \n",
    "        # True rewards, fixed for each game\n",
    "        self.true_rwd = np.random.normal(0,1,self.n_arms)\n",
    "        \n",
    "        # Estimated reward, update after each play\n",
    "        self.estimated_rwd = np.zeros((self.n_group,self.n_arms))\n",
    "        \n",
    "        # Record total reward of each action, update after each play\n",
    "        self.acc_action_rwd = np.zeros((self.n_group,self.n_arms))           \n",
    "        \n",
    "        # Track the times each action taken\n",
    "        self.action_times = np.zeros((self.n_group,self.n_arms))\n",
    "        \n",
    "        # Track the optimal action reward\n",
    "        self.optimal_action_rwd_track = np.zeros((self.n_group,self.play))\n",
    "        \n",
    "        # Track the accumulated reward during the play\n",
    "        self.acc_rwd_track = np.zeros((self.n_group,self.play))\n",
    "        \n",
    "        \n",
    "    def Softmax_selection(self,Q_t):\n",
    "        \n",
    "        # reshape paras, to adapt numpy array computation\n",
    "        tau = np.array(self.control_paras).reshape(self.n_group,-1)\n",
    "        \n",
    "        nominator = np.exp(Q_t/tau)\n",
    "        numerator = nominator.sum(axis=1,keepdims=True)\n",
    "        softmax_prob = nominator/numerator\n",
    "        return softmax_prob\n",
    "        \n",
    "        \n",
    "    def Choose_action(self,p):\n",
    "        \n",
    "        greedy_prob = np.random.uniform(0,1)\n",
    "        \n",
    "        # Strategy During Burning Period\n",
    "        if p < self.burning_period:\n",
    "            \n",
    "            a = np.random.randint(0,self.n_arms,self.n_group)\n",
    "            exploiting = a\n",
    "            \n",
    "        # Strategy After Burning Period\n",
    "        else:\n",
    "            \n",
    "            # Softmax Action Selection\n",
    "            # ------------------------\n",
    "            if self.softmax==1:\n",
    "            \n",
    "                a = []\n",
    "                exploiting = []\n",
    "                softmax_prob = self.Softmax_selection(Q_t=self.estimated_rwd)\n",
    "                \n",
    "                for i in range(self.n_group):\n",
    "                    \n",
    "                    a_temp = np.random.choice(list(range(self.n_arms)),p=softmax_prob[i,:])\n",
    "                    a.append(a_temp)\n",
    "                    exploiting.append(int(np.argmax(softmax_prob[i,:])))\n",
    "                \n",
    "            # Epsilon-Greedy Strategy \n",
    "            # ------------------------\n",
    "            if self.softmax!=1:\n",
    "                \n",
    "                a = []\n",
    "                exploiting = []\n",
    "                for i in range(self.n_group):\n",
    "\n",
    "                    if self.control_paras[i]==0:\n",
    "                        a_temp = int(np.argmax(self.estimated_rwd[i,:]))\n",
    "                        a.append(a_temp)\n",
    "                        exploiting.append(a_temp)\n",
    "                    else:\n",
    "                        exploring = list(range(self.n_arms))\n",
    "                        exploiting_temp = np.argmax(self.estimated_rwd[i,:])\n",
    "                        exploring.remove(exploiting_temp)\n",
    "                        a_temp = int((prob<=self.control_paras[i])*np.random.choice(exploring))+int((prob>self.control_paras[i])*exploiting_temp)\n",
    "                        a.append(a_temp)\n",
    "                        exploiting.append(exploiting_temp)\n",
    "                \n",
    "        return a,exploiting\n",
    "    \n",
    "    def Update_Rewards(self,a,p,exploiting):\n",
    "        \n",
    "        for i in range(self.n_group):\n",
    "\n",
    "            # update action times taken\n",
    "            self.action_times[i,a[i]] += 1\n",
    "\n",
    "            # update accumulated rewards of each action\n",
    "            self.acc_action_rwd[i,a[i]] += np.random.normal(self.true_rwd[a[i]],1)\n",
    "\n",
    "            # update estimated reward of each action\n",
    "            self.estimated_rwd[i,a[i]] = self.acc_action_rwd[i,a[i]]/self.action_times[i,a[i]]\n",
    "            \n",
    "            if p==0:\n",
    "                # update optimal action reward\n",
    "                self.optimal_action_rwd_track[i,p] = np.random.normal(self.true_rwd[exploiting[i]],1)\n",
    "            else:\n",
    "                self.optimal_action_rwd_track[i,p] = (p*(self.optimal_action_rwd_track[i,p-1])+np.random.normal(self.true_rwd[exploiting[i]],1))/(p+1)         \n",
    "            \n",
    "        # record the accumulated reward\n",
    "        self.acc_rwd_track[:,p] = self.acc_action_rwd.sum(axis=1)/(p+1)\n",
    "    \n",
    "    def ReadyPlayer1(self):\n",
    "        \n",
    "        # Track the accumulated reward after each game\n",
    "        self.total_game_rwd_track = np.zeros((self.n_group,self.play))  \n",
    "        \n",
    "        # Track the accumulated reward after each game\n",
    "        self.total_optimal_action_rwd_track = np.zeros((self.n_group,self.play)) \n",
    "        \n",
    "        for g in range(self.game):\n",
    "            \n",
    "            start = time.time()\n",
    "            \n",
    "            # each game need new data restoration\n",
    "            self.__DataRestoration()\n",
    "            \n",
    "            for p in range(self.play):\n",
    "                \n",
    "                a,exploiting=self.Choose_action(p)\n",
    "                self.Update_Rewards(a,p,exploiting)\n",
    "                \n",
    "            self.total_game_rwd_track += self.acc_rwd_track  \n",
    "            self.total_optimal_action_rwd_track += self.optimal_action_rwd_track\n",
    "            \n",
    "            end = time.time()\n",
    "            print('game{} finished, time cost {}seconds'.format(g,np.round(end-start,4)))\n",
    "            \n",
    "        self.total_game_rwd_track = self.total_game_rwd_track/self.game\n",
    "        self.total_optimal_action_rwd_track = self.total_optimal_action_rwd_track/self.game\n",
    "        \n",
    "        self.reward_data = pd.DataFrame(self.total_game_rwd_track[:,self.burning_period:]).T\n",
    "        if self.softmax==1:\n",
    "            self.reward_data.columns = ['tau='+str(i) for i in self.control_paras]\n",
    "        else:\n",
    "            self.reward_data.columns = ['epsilon='+str(i) for i in self.control_paras]\n",
    "        \n",
    "        self.optimal_action = pd.DataFrame(self.total_optimal_action_rwd_track[:,self.burning_period:]).T\n",
    "        if self.softmax==1:\n",
    "            self.optimal_action.columns = ['tau='+str(i) for i in self.control_paras]\n",
    "        else:\n",
    "            self.optimal_action.columns = ['epsilon='+str(i) for i in self.control_paras]"
   ]
  },
  {
   "cell_type": "code",
   "execution_count": 47,
   "metadata": {},
   "outputs": [],
   "source": [
    "RP1 = N_Armed_Bandit(game=50,play=4000,n_arms=10,control_paras=[0.01,0.03,0.1,0.5,1],burning_period=1,softmax=1)"
   ]
  },
  {
   "cell_type": "code",
   "execution_count": 48,
   "metadata": {
    "scrolled": true
   },
   "outputs": [
    {
     "name": "stdout",
     "output_type": "stream",
     "text": [
      "game0 finished, time cost 1.2424seconds\n",
      "game1 finished, time cost 1.27seconds\n",
      "game2 finished, time cost 1.2168seconds\n",
      "game3 finished, time cost 1.2399seconds\n",
      "game4 finished, time cost 1.2181seconds\n",
      "game5 finished, time cost 1.1941seconds\n",
      "game6 finished, time cost 1.181seconds\n",
      "game7 finished, time cost 1.2299seconds\n",
      "game8 finished, time cost 1.1723seconds\n",
      "game9 finished, time cost 1.2492seconds\n",
      "game10 finished, time cost 1.2703seconds\n",
      "game11 finished, time cost 1.2592seconds\n",
      "game12 finished, time cost 1.2452seconds\n",
      "game13 finished, time cost 1.2462seconds\n",
      "game14 finished, time cost 1.2026seconds\n",
      "game15 finished, time cost 1.1661seconds\n",
      "game16 finished, time cost 1.2402seconds\n",
      "game17 finished, time cost 1.206seconds\n",
      "game18 finished, time cost 1.1379seconds\n",
      "game19 finished, time cost 1.2364seconds\n",
      "game20 finished, time cost 1.188seconds\n",
      "game21 finished, time cost 1.2015seconds\n",
      "game22 finished, time cost 1.1578seconds\n",
      "game23 finished, time cost 1.1734seconds\n",
      "game24 finished, time cost 1.2297seconds\n",
      "game25 finished, time cost 1.235seconds\n",
      "game26 finished, time cost 1.2258seconds\n",
      "game27 finished, time cost 1.2391seconds\n",
      "game28 finished, time cost 1.2012seconds\n",
      "game29 finished, time cost 1.2353seconds\n",
      "game30 finished, time cost 1.2248seconds\n",
      "game31 finished, time cost 1.2045seconds\n",
      "game32 finished, time cost 1.238seconds\n",
      "game33 finished, time cost 1.251seconds\n",
      "game34 finished, time cost 1.2434seconds\n",
      "game35 finished, time cost 1.2447seconds\n",
      "game36 finished, time cost 1.2462seconds\n",
      "game37 finished, time cost 1.2105seconds\n",
      "game38 finished, time cost 1.2361seconds\n",
      "game39 finished, time cost 1.1947seconds\n",
      "game40 finished, time cost 1.2383seconds\n",
      "game41 finished, time cost 1.2064seconds\n",
      "game42 finished, time cost 1.2369seconds\n",
      "game43 finished, time cost 1.2385seconds\n",
      "game44 finished, time cost 1.2538seconds\n",
      "game45 finished, time cost 1.2563seconds\n",
      "game46 finished, time cost 1.2063seconds\n",
      "game47 finished, time cost 1.2313seconds\n",
      "game48 finished, time cost 1.2394seconds\n",
      "game49 finished, time cost 1.2486seconds\n"
     ]
    }
   ],
   "source": [
    "RP1.ReadyPlayer1()"
   ]
  },
  {
   "cell_type": "code",
   "execution_count": 49,
   "metadata": {},
   "outputs": [
    {
     "data": {
      "text/plain": [
       "<matplotlib.axes._subplots.AxesSubplot at 0x1a18ef5bd0>"
      ]
     },
     "execution_count": 49,
     "metadata": {},
     "output_type": "execute_result"
    },
    {
     "data": {
      "image/png": "[encoded data removed]",
      "text/plain": [
       "<Figure size 432x288 with 1 Axes>"
      ]
     },
     "metadata": {
      "needs_background": "light"
     },
     "output_type": "display_data"
    }
   ],
   "source": [
    "plt.figure()\n",
    "sns.lineplot(data = RP1.reward_data)"
   ]
  },
  {
   "cell_type": "code",
   "execution_count": 50,
   "metadata": {},
   "outputs": [
    {
     "data": {
      "text/plain": [
       "<matplotlib.axes._subplots.AxesSubplot at 0x1a190adad0>"
      ]
     },
     "execution_count": 50,
     "metadata": {},
     "output_type": "execute_result"
    },
    {
     "data": {
      "image/png": "[encoded data removed]",
      "text/plain": [
       "<Figure size 432x288 with 1 Axes>"
      ]
     },
     "metadata": {
      "needs_background": "light"
     },
     "output_type": "display_data"
    }
   ],
   "source": [
    "plt.figure()\n",
    "sns.lineplot(data = RP1.optimal_action)"
   ]
  },
  {
   "cell_type": "code",
   "execution_count": null,
   "metadata": {},
   "outputs": [],
   "source": []
  }
 ],
 "metadata": {
  "kernelspec": {
   "display_name": "Python 3",
   "language": "python",
   "name": "python3"
  },
  "language_info": {
   "codemirror_mode": {
    "name": "ipython",
    "version": 3
   },
   "file_extension": ".py",
   "mimetype": "text/x-python",
   "name": "python",
   "nbconvert_exporter": "python",
   "pygments_lexer": "ipython3",
   "version": "3.7.6"
  }
 },
 "nbformat": 4,
 "nbformat_minor": 4
}
