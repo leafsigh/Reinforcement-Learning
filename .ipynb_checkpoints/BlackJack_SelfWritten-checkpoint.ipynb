{
 "cells": [
  {
   "cell_type": "code",
   "execution_count": 1,
   "metadata": {},
   "outputs": [],
   "source": [
    "import numpy as np"
   ]
  },
  {
   "cell_type": "code",
   "execution_count": 2,
   "metadata": {},
   "outputs": [],
   "source": [
    "class BlackJack_PolicyEval():\n",
    "    \n",
    "    def __init__(self):\n",
    "        \n",
    "        # Assume the deck is infinitly large\n",
    "        self.decks = [i for i in range(1,11)]\n",
    "        \n",
    "        # why 32 observation states?\n",
    "        # the sum of two face-down cards for player can be 2~22\n",
    "        # while the one face-up card from the dealer can be 1~11\n",
    "        # so all possible sums range from 2~33, which contains 32 observation states\n",
    "        # Even though in our intuition, if the player already has sum of 21, he/she shouldn't hit\n",
    "        # but in programming logic, we'll keep these situations\n",
    "        self.player_sum_states = [i for i in range(2,34)]\n",
    "        \n",
    "        self.dealer_face_up = [i for i in range(1,12)]\n",
    "        self.actions = ['hit','stick']\n",
    "        \n",
    "        self.player_thres = 18\n",
    "        self.dealer_thres = 17\n",
    "        \n",
    "    # Execute the start of the game: 2 cards for player and dealer each\n",
    "    def draw_hands(self):\n",
    "        \n",
    "        return [np.random.choice(self.decks),\n",
    "                np.random.choice(self.decks)]\n",
    "    \n",
    "    # Execute drawing card\n",
    "    def draw_card(self):\n",
    "        \n",
    "        return np.random.choice(self.decks)\n",
    "    \n",
    "    # Decide whether there is a usable ace at hand currently\n",
    "    def Ace(self,cards):\n",
    "        if (1 in cards) and (sum(cards)+10<=21):\n",
    "            return True\n",
    "            \n",
    "        else:\n",
    "            return False\n",
    "        \n",
    "    # Calculate the current sum of cards at hand\n",
    "    def CuurentSum(self,cards,thres):\n",
    "        \n",
    "        if self.Ace(cards):\n",
    "            if sum(cards)+10>21:\n",
    "                return 'Bust'\n",
    "\n",
    "            elif sum(cards)+10>=thres:\n",
    "                return 'Stick'\n",
    "\n",
    "            else:\n",
    "                return 'Hit'\n",
    "        else:\n",
    "            if sum(cards)>21:\n",
    "                return 'Bust'\n",
    "\n",
    "            elif sum(cards)>=thres:\n",
    "                return 'Stick'\n",
    "\n",
    "            else:\n",
    "                return 'Hit'\n",
    "        \n",
    "    # If game ends, calculate player's score of this round of game\n",
    "    def Score(self,player_track,dealer_track,player_sum,dealer_sum):\n",
    "        if player_track[-1]=='Bust':\n",
    "            return -1\n",
    "        elif dealer_track[-1]=='Bust':\n",
    "            return 1\n",
    "        elif player_sum == dealer_sum:\n",
    "            return 0\n",
    "        else:\n",
    "            return 2*(player_sum>dealer_sum)-1\n",
    "            \n",
    "    \n",
    "    # Let's get the party started\n",
    "    def GameBegins(self):\n",
    "        \n",
    "        # 1. Game Starts, two cards for dealer and player for each\n",
    "        player_start,dealer_start = self.draw_hands(),self.draw_hands()\n",
    "        \n",
    "        self.player_hand = player_start.copy()\n",
    "        self.dealer_hand = dealer_start.copy()\n",
    "\n",
    "        self.track_player = player_start.copy()\n",
    "        self.track_dealer = dealer_start.copy()\n",
    "        # ---------------------------------------------------------\n",
    "        \n",
    "        \n",
    "        # 2. Player will decide the action according to the current state:\n",
    "        player_done = False\n",
    "        dealer_done = False\n",
    "        \n",
    "        while player_done==False:\n",
    "            action = self.CuurentSum(self.player_hand,self.player_thres)\n",
    "            \n",
    "            if action=='Stick':\n",
    "                self.track_player.append(action)\n",
    "                player_done=True\n",
    "                \n",
    "            if action=='Hit':\n",
    "                self.track_player.append(action)\n",
    "                new_draw = self.draw_card()\n",
    "                self.player_hand.append(new_draw)\n",
    "                self.track_player.append(new_draw)\n",
    "            \n",
    "            if action=='Bust':\n",
    "                self.track_player.append(action)\n",
    "                player_done=True\n",
    "                dealer_done=True\n",
    "        # ---------------------------------------------------------\n",
    "        \n",
    "        \n",
    "        # 3. If the player stops acting, turn to dealer\n",
    "        while dealer_done == False:\n",
    "            action = self.CuurentSum(self.dealer_hand,self.dealer_thres)\n",
    "            \n",
    "            if action=='Stick':\n",
    "                self.track_dealer.append(action)\n",
    "                dealer_done=True\n",
    "                \n",
    "            if action=='Hit':\n",
    "                self.track_dealer.append(action)\n",
    "                new_draw = self.draw_card()\n",
    "                self.dealer_hand.append(new_draw)\n",
    "                self.track_dealer.append(new_draw)\n",
    "            \n",
    "            if action=='Bust':\n",
    "                self.track_dealer.append(action)\n",
    "                dealer_done=True\n",
    "        self.track_player = tuple(self.track_player)\n",
    "        self.track_dealer = tuple(self.track_dealer)\n",
    "        # ---------------------------------------------------------\n",
    "        \n",
    "        \n",
    "        # 4. Get the final score of player:\n",
    "        self.score = self.Score(self.track_player,\n",
    "                                self.track_dealer,\n",
    "                                sum(self.player_hand),\n",
    "                                sum(self.dealer_hand))\n",
    "        \n",
    "        if self.score==1:\n",
    "            print('you win')\n",
    "        if self.score==-1:\n",
    "            print('you lost')  \n",
    "        if self.score==0:\n",
    "            print('draw')\n",
    "        # ---------------------------------------------------------"
   ]
  },
  {
   "cell_type": "code",
   "execution_count": 3,
   "metadata": {},
   "outputs": [],
   "source": [
    "game = BlackJack_PolicyEval()"
   ]
  },
  {
   "cell_type": "code",
   "execution_count": 4,
   "metadata": {},
   "outputs": [
    {
     "name": "stdout",
     "output_type": "stream",
     "text": [
      "you win\n"
     ]
    }
   ],
   "source": [
    "game.GameBegins()"
   ]
  },
  {
   "cell_type": "code",
   "execution_count": 5,
   "metadata": {},
   "outputs": [
    {
     "data": {
      "text/plain": [
       "(9, 6, 'Hit', 6, 'Stick')"
      ]
     },
     "execution_count": 5,
     "metadata": {},
     "output_type": "execute_result"
    }
   ],
   "source": [
    "game.track_player"
   ]
  },
  {
   "cell_type": "code",
   "execution_count": 6,
   "metadata": {},
   "outputs": [
    {
     "data": {
      "text/plain": [
       "(1, 5, 'Hit', 2, 'Stick')"
      ]
     },
     "execution_count": 6,
     "metadata": {},
     "output_type": "execute_result"
    }
   ],
   "source": [
    "game.track_dealer"
   ]
  }
 ],
 "metadata": {
  "kernelspec": {
   "display_name": "Python 3",
   "language": "python",
   "name": "python3"
  },
  "language_info": {
   "codemirror_mode": {
    "name": "ipython",
    "version": 3
   },
   "file_extension": ".py",
   "mimetype": "text/x-python",
   "name": "python",
   "nbconvert_exporter": "python",
   "pygments_lexer": "ipython3",
   "version": "3.7.6"
  }
 },
 "nbformat": 4,
 "nbformat_minor": 4
}
