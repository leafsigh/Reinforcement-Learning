{
 "cells": [
  {
   "cell_type": "code",
   "execution_count": 1,
   "metadata": {},
   "outputs": [],
   "source": [
    "import numpy as np\n",
    "import gym\n",
    "import time"
   ]
  },
  {
   "cell_type": "code",
   "execution_count": 5,
   "metadata": {},
   "outputs": [
    {
     "data": {
      "text/plain": [
       "array([10.82071479, 11.4401305 ])"
      ]
     },
     "execution_count": 5,
     "metadata": {},
     "output_type": "execute_result"
    }
   ],
   "source": [
    "np.random.normal()"
   ]
  },
  {
   "cell_type": "code",
   "execution_count": null,
   "metadata": {},
   "outputs": [],
   "source": [
    "class TDLearning:\n",
    "    \n",
    "    def __init__(self):\n",
    "        \n",
    "        # set up the gym environments of Taxi-v2 problem\n",
    "        self.env = gym.make('Taxi-v2')\n",
    "        self.n_states,self.n_actions = self.env.observation_space.n, self.env.action_space.n\n",
    "        \n",
    "        # record the return of the agent in each step\n",
    "        self.timestep_reward = []\n",
    "        self.accumulated_reward = []\n",
    "        \n",
    "    # Initialize Q table\n",
    "    def InitQ(self):\n",
    "        \n",
    "        self.Q = np.random.rand(self.n_states,self.n_actions)\n",
    "    \n",
    "    # Epsilon greedy method for SARSA\n",
    "    def EpsilonGreedy(self,epsilon,state,train=False):\n",
    "        \n",
    "        if train or np.random.rand()<epsilon:\n",
    "            action = np.argmax(self.Q[s,:])\n",
    "        else:\n",
    "            action = np.random.randint(0,self.n_actions)\n",
    "        \n",
    "        return action\n",
    "    \n",
    "    def SARSA(self,gamma,alpha,s1,a1,s2,a2,r,done):\n",
    "        \n",
    "        # implement the sarsa algorithm (bellman equation)\n",
    "        if not done:\n",
    "            self.Q[state,action] = self.Q[s,a]+alpha*(r+gamma*self.Q[s2,a2]-self.Q[s1,a1])\n",
    "            return self.Q\n",
    "        else:\n",
    "            return self.Q\n",
    "        \n",
    "    def QLearning(self,gamma,alpha,s1,a1,s2,r,done):\n",
    "        \n",
    "        # In Q learning, no policy to choose action\n",
    "        a2 = np.argmax(self.Q[s1,:])\n",
    "        \n",
    "        # implement the Qlearning algortihm (bellman equation)\n",
    "        if not done:\n",
    "            self.Q[s1,a1] = self.Q[s1,a1]+alpha*(r+gamma*self.Q[s2,a2]-self.Q[s1,a1])\n",
    "            \n",
    "    def MainFunction(self,episodes,max_steps,method='sarsa'):\n",
    "        \n",
    "        self.InitQ()\n",
    "        timestep_reward = []\n",
    "        \n",
    "        epislon = 0.1\n",
    "        gamma = 0.9\n",
    "        alpha = 0.1\n",
    "        \n",
    "        for ep in range(episodes):\n",
    "            print('current episode: ',ep)\n",
    "            s1 = self.env.render()\n",
    "            done = False\n",
    "            total_reward=0\n",
    "            \n",
    "            while t<=max_steps:\n",
    "                t+=1\n",
    "                \n",
    "                if method=='sarsa':\n",
    "                    a1 = self.EpsilonGreedy(epsilon,s1)\n",
    "                    s2, reward, done, info = env.step(a1)\n",
    "                    total_reward += reward\n",
    "                    \n",
    "                    self.SARSA(gamma,alpha,s1,a1,s2,a2,reward,done)\n",
    "                    \n",
    "                if method=='Q-Learning':\n",
    "                    \n",
    "                    s"
   ]
  }
 ],
 "metadata": {
  "kernelspec": {
   "display_name": "Python 3",
   "language": "python",
   "name": "python3"
  },
  "language_info": {
   "codemirror_mode": {
    "name": "ipython",
    "version": 3
   },
   "file_extension": ".py",
   "mimetype": "text/x-python",
   "name": "python",
   "nbconvert_exporter": "python",
   "pygments_lexer": "ipython3",
   "version": "3.7.6"
  }
 },
 "nbformat": 4,
 "nbformat_minor": 4
}
