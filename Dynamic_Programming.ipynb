{
 "cells": [
  {
   "cell_type": "code",
   "execution_count": 2,
   "metadata": {},
   "outputs": [],
   "source": [
    "import numpy as np\n",
    "import matplotlib.pyplot as plt\n",
    "import seaborn as sns"
   ]
  },
  {
   "cell_type": "markdown",
   "metadata": {},
   "source": [
    "**Iterative Policy Evaluation in Grid-World**\n",
    "- fix the state transfer prob matrix S\n",
    "- fix the reward of each grid =-1\n",
    "- initialize the policy as equiprobable"
   ]
  },
  {
   "cell_type": "code",
   "execution_count": 136,
   "metadata": {},
   "outputs": [],
   "source": [
    "# initialize v_k\n",
    "large_vk = np.array(list(range(36))).reshape(6,6)\n",
    "\n",
    "# initialize policy: [up,down,left,right|s]\n",
    "policy = np.ones(4)*0.25\n",
    "\n",
    "# interations \n",
    "itera = 100\n",
    "\n",
    "# action dict\n",
    "action_row_dict = {'up':-1,'down':1,\n",
    "                   'left':0,'right':0}\n",
    "action_col_dict = {'up':0,'down':0,\n",
    "                   'left':-1,'right':1}\n",
    "\n",
    "act_row = np.vectorize(lambda x:action_row_dict[x])\n",
    "act_col = np.vectorize(lambda x:action_col_dict[x])\n",
    "\n",
    "\n",
    "# acting/updating vk\n",
    "def act(large_vk,row_m,col_m):\n",
    "    \n",
    "    # initial coordinates\n",
    "    cod = np.meshgrid([1,2,3,4],[1,2,3,4])\n",
    "    \n",
    "    row_moving = cod[1] + row_m\n",
    "    col_moving = cod[0] + col_m\n",
    "    \n",
    "    added_value = large_vk[row_moving,col_moving]\n",
    "    large_vk[cod[1],cod[0]] += added_value \n",
    "    \n",
    "    return large_vk,row_m,col_m,added_value\n",
    "\n",
    "# Full Backup DP\n",
    "action = np.random.choice(a = ['up','down','left','right'], \n",
    "                          p = policy,\n",
    "                          size=(4,4))\n",
    "\n",
    "a,b,c,d=act(large_vk,act_row(action),act_col(action))"
   ]
  },
  {
   "cell_type": "code",
   "execution_count": 137,
   "metadata": {},
   "outputs": [
    {
     "data": {
      "text/plain": [
       "array([[ 0,  1,  2,  3,  4,  5],\n",
       "       [ 6, 15, 22, 24, 19, 11],\n",
       "       [12, 25, 34, 29, 31, 17],\n",
       "       [18, 37, 41, 48, 50, 23],\n",
       "       [24, 49, 58, 60, 57, 29],\n",
       "       [30, 31, 32, 33, 34, 35]])"
      ]
     },
     "execution_count": 137,
     "metadata": {},
     "output_type": "execute_result"
    }
   ],
   "source": [
    "a"
   ]
  },
  {
   "cell_type": "code",
   "execution_count": 139,
   "metadata": {},
   "outputs": [
    {
     "data": {
      "text/plain": [
       "array([[ 0,  1,  2,  3,  4,  5],\n",
       "       [ 6,  7,  8,  9, 10, 11],\n",
       "       [12, 13, 14, 15, 16, 17],\n",
       "       [18, 19, 20, 21, 22, 23],\n",
       "       [24, 25, 26, 27, 28, 29],\n",
       "       [30, 31, 32, 33, 34, 35]])"
      ]
     },
     "execution_count": 139,
     "metadata": {},
     "output_type": "execute_result"
    }
   ],
   "source": [
    "np.array(list(range(36))).reshape(6,6)"
   ]
  },
  {
   "cell_type": "code",
   "execution_count": 140,
   "metadata": {},
   "outputs": [
    {
     "data": {
      "text/plain": [
       "array([['right', 'down', 'down', 'left'],\n",
       "       ['left', 'down', 'left', 'left'],\n",
       "       ['left', 'right', 'down', 'down'],\n",
       "       ['left', 'down', 'down', 'right']], dtype='<U5')"
      ]
     },
     "execution_count": 140,
     "metadata": {},
     "output_type": "execute_result"
    }
   ],
   "source": [
    "action"
   ]
  },
  {
   "cell_type": "code",
   "execution_count": 115,
   "metadata": {},
   "outputs": [
    {
     "data": {
      "text/plain": [
       "array([[ 7,  8,  9, 10],\n",
       "       [13, 14, 15, 16],\n",
       "       [19, 20, 21, 22],\n",
       "       [25, 26, 27, 28]])"
      ]
     },
     "execution_count": 115,
     "metadata": {},
     "output_type": "execute_result"
    }
   ],
   "source": [
    "large[cod[1],cod[0]]"
   ]
  },
  {
   "cell_type": "code",
   "execution_count": 86,
   "metadata": {},
   "outputs": [],
   "source": [
    "vec_act = np.vectorize(Row_Act)"
   ]
  },
  {
   "cell_type": "code",
   "execution_count": 87,
   "metadata": {},
   "outputs": [],
   "source": [
    "actions = np.random.choice(a = ['up','down','left','right'],size=(4,4),p = policy)"
   ]
  },
  {
   "cell_type": "code",
   "execution_count": 88,
   "metadata": {},
   "outputs": [
    {
     "data": {
      "text/plain": [
       "array([['left', 'down', 'right', 'right'],\n",
       "       ['up', 'up', 'right', 'left'],\n",
       "       ['down', 'down', 'up', 'left'],\n",
       "       ['right', 'up', 'down', 'up']], dtype='<U5')"
      ]
     },
     "execution_count": 88,
     "metadata": {},
     "output_type": "execute_result"
    }
   ],
   "source": [
    "actions.flatten().reshape(4,4)"
   ]
  },
  {
   "cell_type": "code",
   "execution_count": 92,
   "metadata": {},
   "outputs": [],
   "source": [
    "a = np.random.randint(0,10,(2,2))"
   ]
  },
  {
   "cell_type": "code",
   "execution_count": 96,
   "metadata": {},
   "outputs": [
    {
     "data": {
      "text/plain": [
       "[array([5, 6, 7, 0])]"
      ]
     },
     "execution_count": 96,
     "metadata": {},
     "output_type": "execute_result"
    }
   ],
   "source": [
    "np.meshgrid(a,indexing='xy')"
   ]
  },
  {
   "cell_type": "code",
   "execution_count": 98,
   "metadata": {},
   "outputs": [],
   "source": [
    "x = [0,1,2,3]\n",
    "y = [0,1,2,3]"
   ]
  },
  {
   "cell_type": "code",
   "execution_count": 99,
   "metadata": {},
   "outputs": [
    {
     "data": {
      "text/plain": [
       "[array([[0, 1, 2, 3],\n",
       "        [0, 1, 2, 3],\n",
       "        [0, 1, 2, 3],\n",
       "        [0, 1, 2, 3]]),\n",
       " array([[0, 0, 0, 0],\n",
       "        [1, 1, 1, 1],\n",
       "        [2, 2, 2, 2],\n",
       "        [3, 3, 3, 3]])]"
      ]
     },
     "execution_count": 99,
     "metadata": {},
     "output_type": "execute_result"
    }
   ],
   "source": [
    "np.meshgrid(x,y)"
   ]
  },
  {
   "cell_type": "code",
   "execution_count": null,
   "metadata": {},
   "outputs": [],
   "source": []
  }
 ],
 "metadata": {
  "kernelspec": {
   "display_name": "Python 3",
   "language": "python",
   "name": "python3"
  },
  "language_info": {
   "codemirror_mode": {
    "name": "ipython",
    "version": 3
   },
   "file_extension": ".py",
   "mimetype": "text/x-python",
   "name": "python",
   "nbconvert_exporter": "python",
   "pygments_lexer": "ipython3",
   "version": "3.7.6"
  }
 },
 "nbformat": 4,
 "nbformat_minor": 4
}
